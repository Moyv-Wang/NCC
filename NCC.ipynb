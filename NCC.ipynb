{
 "cells": [
  {
   "cell_type": "code",
   "execution_count": 42,
   "id": "66355e9d-b29e-40e0-b52f-438e560e5316",
   "metadata": {
    "tags": []
   },
   "outputs": [],
   "source": [
    "import pandas as pd\n",
    "import math"
   ]
  },
  {
   "cell_type": "code",
   "execution_count": 43,
   "id": "5e2b0d60-b9d7-457a-a8ac-b48e50810adc",
   "metadata": {
    "tags": []
   },
   "outputs": [
    {
     "data": {
      "text/html": [
       "<div>\n",
       "<style scoped>\n",
       "    .dataframe tbody tr th:only-of-type {\n",
       "        vertical-align: middle;\n",
       "    }\n",
       "\n",
       "    .dataframe tbody tr th {\n",
       "        vertical-align: top;\n",
       "    }\n",
       "\n",
       "    .dataframe thead th {\n",
       "        text-align: right;\n",
       "    }\n",
       "</style>\n",
       "<table border=\"1\" class=\"dataframe\">\n",
       "  <thead>\n",
       "    <tr style=\"text-align: right;\">\n",
       "      <th></th>\n",
       "      <th>1</th>\n",
       "      <th>2</th>\n",
       "      <th>3</th>\n",
       "      <th>4</th>\n",
       "      <th>5</th>\n",
       "      <th>6</th>\n",
       "      <th>7</th>\n",
       "      <th>8</th>\n",
       "      <th>9</th>\n",
       "      <th>10</th>\n",
       "      <th>11</th>\n",
       "    </tr>\n",
       "  </thead>\n",
       "  <tbody>\n",
       "    <tr>\n",
       "      <th>0</th>\n",
       "      <td>131</td>\n",
       "      <td>139</td>\n",
       "      <td>130</td>\n",
       "      <td>138</td>\n",
       "      <td>146</td>\n",
       "      <td>151</td>\n",
       "      <td>141</td>\n",
       "      <td>139</td>\n",
       "      <td>142</td>\n",
       "      <td>135</td>\n",
       "      <td>121</td>\n",
       "    </tr>\n",
       "    <tr>\n",
       "      <th>1</th>\n",
       "      <td>127</td>\n",
       "      <td>144</td>\n",
       "      <td>146</td>\n",
       "      <td>146</td>\n",
       "      <td>142</td>\n",
       "      <td>138</td>\n",
       "      <td>128</td>\n",
       "      <td>124</td>\n",
       "      <td>125</td>\n",
       "      <td>125</td>\n",
       "      <td>118</td>\n",
       "    </tr>\n",
       "    <tr>\n",
       "      <th>2</th>\n",
       "      <td>119</td>\n",
       "      <td>140</td>\n",
       "      <td>142</td>\n",
       "      <td>133</td>\n",
       "      <td>122</td>\n",
       "      <td>121</td>\n",
       "      <td>123</td>\n",
       "      <td>136</td>\n",
       "      <td>154</td>\n",
       "      <td>169</td>\n",
       "      <td>160</td>\n",
       "    </tr>\n",
       "    <tr>\n",
       "      <th>3</th>\n",
       "      <td>122</td>\n",
       "      <td>139</td>\n",
       "      <td>161</td>\n",
       "      <td>166</td>\n",
       "      <td>167</td>\n",
       "      <td>170</td>\n",
       "      <td>164</td>\n",
       "      <td>166</td>\n",
       "      <td>167</td>\n",
       "      <td>164</td>\n",
       "      <td>160</td>\n",
       "    </tr>\n",
       "    <tr>\n",
       "      <th>4</th>\n",
       "      <td>172</td>\n",
       "      <td>183</td>\n",
       "      <td>191</td>\n",
       "      <td>187</td>\n",
       "      <td>184</td>\n",
       "      <td>182</td>\n",
       "      <td>168</td>\n",
       "      <td>158</td>\n",
       "      <td>160</td>\n",
       "      <td>160</td>\n",
       "      <td>165</td>\n",
       "    </tr>\n",
       "    <tr>\n",
       "      <th>5</th>\n",
       "      <td>174</td>\n",
       "      <td>163</td>\n",
       "      <td>157</td>\n",
       "      <td>154</td>\n",
       "      <td>155</td>\n",
       "      <td>160</td>\n",
       "      <td>162</td>\n",
       "      <td>162</td>\n",
       "      <td>164</td>\n",
       "      <td>163</td>\n",
       "      <td>161</td>\n",
       "    </tr>\n",
       "    <tr>\n",
       "      <th>6</th>\n",
       "      <td>114</td>\n",
       "      <td>103</td>\n",
       "      <td>70</td>\n",
       "      <td>80</td>\n",
       "      <td>91</td>\n",
       "      <td>138</td>\n",
       "      <td>165</td>\n",
       "      <td>165</td>\n",
       "      <td>169</td>\n",
       "      <td>166</td>\n",
       "      <td>161</td>\n",
       "    </tr>\n",
       "    <tr>\n",
       "      <th>7</th>\n",
       "      <td>64</td>\n",
       "      <td>63</td>\n",
       "      <td>46</td>\n",
       "      <td>58</td>\n",
       "      <td>76</td>\n",
       "      <td>123</td>\n",
       "      <td>169</td>\n",
       "      <td>163</td>\n",
       "      <td>157</td>\n",
       "      <td>163</td>\n",
       "      <td>159</td>\n",
       "    </tr>\n",
       "    <tr>\n",
       "      <th>8</th>\n",
       "      <td>51</td>\n",
       "      <td>58</td>\n",
       "      <td>49</td>\n",
       "      <td>55</td>\n",
       "      <td>71</td>\n",
       "      <td>107</td>\n",
       "      <td>159</td>\n",
       "      <td>169</td>\n",
       "      <td>156</td>\n",
       "      <td>160</td>\n",
       "      <td>154</td>\n",
       "    </tr>\n",
       "    <tr>\n",
       "      <th>9</th>\n",
       "      <td>51</td>\n",
       "      <td>55</td>\n",
       "      <td>44</td>\n",
       "      <td>51</td>\n",
       "      <td>63</td>\n",
       "      <td>96</td>\n",
       "      <td>151</td>\n",
       "      <td>159</td>\n",
       "      <td>165</td>\n",
       "      <td>161</td>\n",
       "      <td>155</td>\n",
       "    </tr>\n",
       "    <tr>\n",
       "      <th>10</th>\n",
       "      <td>52</td>\n",
       "      <td>57</td>\n",
       "      <td>56</td>\n",
       "      <td>56</td>\n",
       "      <td>60</td>\n",
       "      <td>82</td>\n",
       "      <td>146</td>\n",
       "      <td>160</td>\n",
       "      <td>158</td>\n",
       "      <td>166</td>\n",
       "      <td>160</td>\n",
       "    </tr>\n",
       "  </tbody>\n",
       "</table>\n",
       "</div>"
      ],
      "text/plain": [
       "      1    2    3    4    5    6    7    8    9   10   11\n",
       "0   131  139  130  138  146  151  141  139  142  135  121\n",
       "1   127  144  146  146  142  138  128  124  125  125  118\n",
       "2   119  140  142  133  122  121  123  136  154  169  160\n",
       "3   122  139  161  166  167  170  164  166  167  164  160\n",
       "4   172  183  191  187  184  182  168  158  160  160  165\n",
       "5   174  163  157  154  155  160  162  162  164  163  161\n",
       "6   114  103   70   80   91  138  165  165  169  166  161\n",
       "7    64   63   46   58   76  123  169  163  157  163  159\n",
       "8    51   58   49   55   71  107  159  169  156  160  154\n",
       "9    51   55   44   51   63   96  151  159  165  161  155\n",
       "10   52   57   56   56   60   82  146  160  158  166  160"
      ]
     },
     "execution_count": 43,
     "metadata": {},
     "output_type": "execute_result"
    }
   ],
   "source": [
    "l = pd.read_csv('l.csv')\n",
    "r = pd.read_csv('r.csv')\n",
    "r"
   ]
  },
  {
   "cell_type": "code",
   "execution_count": 29,
   "id": "409fae5e-2200-4a7f-93a1-66cea74b5bf4",
   "metadata": {
    "tags": []
   },
   "outputs": [
    {
     "data": {
      "text/plain": [
       "array([[ 93,  96,  98,  98, 105, 109, 107, 105, 104,  99,  92],\n",
       "       [ 95, 101, 106, 103, 109, 110, 110, 115, 121, 123, 118],\n",
       "       [ 93, 106, 113, 118, 128, 130, 134, 141, 149, 150, 141],\n",
       "       [118, 130, 141, 145, 151, 152, 155, 156, 156, 153, 146],\n",
       "       [144, 150, 152, 155, 159, 158, 158, 158, 157, 154, 149],\n",
       "       [131, 122, 116, 120, 131, 144, 153, 161, 163, 162, 160],\n",
       "       [ 88,  79,  74,  80,  98, 130, 148, 157, 162, 165, 164],\n",
       "       [ 57,  55,  52,  59,  78, 115, 137, 149, 155, 160, 162],\n",
       "       [ 47,  48,  46,  51,  67, 104, 130, 141, 147, 155, 160],\n",
       "       [ 46,  47,  45,  53,  64,  97, 123, 134, 140, 149, 157],\n",
       "       [ 45,  46,  45,  49,  56,  87, 118, 131, 135, 141, 150]],\n",
       "      dtype=int64)"
      ]
     },
     "execution_count": 29,
     "metadata": {},
     "output_type": "execute_result"
    }
   ],
   "source": [
    "array1 = l.values\n",
    "array1"
   ]
  },
  {
   "cell_type": "code",
   "execution_count": 30,
   "id": "e0c1fca1-5afa-452d-8a59-a0a1db4605ad",
   "metadata": {},
   "outputs": [
    {
     "data": {
      "text/plain": [
       "117.83471074380165"
      ]
     },
     "execution_count": 30,
     "metadata": {},
     "output_type": "execute_result"
    }
   ],
   "source": [
    "sum = 0\n",
    "for i in range(len(array1)):\n",
    "    for j in range(len(array1)):\n",
    "       sum += array1[i][j]\n",
    "x_bar = sum / 121\n",
    "x_bar"
   ]
  },
  {
   "cell_type": "code",
   "execution_count": 31,
   "id": "b13d61da-1e0f-4702-b2c5-5cb12033b2e0",
   "metadata": {
    "tags": []
   },
   "outputs": [
    {
     "data": {
      "text/plain": [
       "array([[131, 139, 130, 138, 146, 151, 141, 139, 142, 135, 121],\n",
       "       [127, 144, 146, 146, 142, 138, 128, 124, 125, 125, 118],\n",
       "       [119, 140, 142, 133, 122, 121, 123, 136, 154, 169, 160],\n",
       "       [122, 139, 161, 166, 167, 170, 164, 166, 167, 164, 160],\n",
       "       [172, 183, 191, 187, 184, 182, 168, 158, 160, 160, 165],\n",
       "       [174, 163, 157, 154, 155, 160, 162, 162, 164, 163, 161],\n",
       "       [114, 103,  70,  80,  91, 138, 165, 165, 169, 166, 161],\n",
       "       [ 64,  63,  46,  58,  76, 123, 169, 163, 157, 163, 159],\n",
       "       [ 51,  58,  49,  55,  71, 107, 159, 169, 156, 160, 154],\n",
       "       [ 51,  55,  44,  51,  63,  96, 151, 159, 165, 161, 155],\n",
       "       [ 52,  57,  56,  56,  60,  82, 146, 160, 158, 166, 160]],\n",
       "      dtype=int64)"
      ]
     },
     "execution_count": 31,
     "metadata": {},
     "output_type": "execute_result"
    }
   ],
   "source": [
    "array2 = r.values\n",
    "array2"
   ]
  },
  {
   "cell_type": "code",
   "execution_count": 32,
   "id": "52b67afb-c3e9-4c87-b693-ff1cf0e729b1",
   "metadata": {
    "tags": []
   },
   "outputs": [
    {
     "data": {
      "text/plain": [
       "132.9090909090909"
      ]
     },
     "execution_count": 32,
     "metadata": {},
     "output_type": "execute_result"
    }
   ],
   "source": [
    "sum2 = 0\n",
    "for i in range(len(array2)):\n",
    "    for j in range(len(array2)):\n",
    "       sum2 += array2[i][j]\n",
    "y_bar = sum2 / 121\n",
    "y_bar"
   ]
  },
  {
   "cell_type": "code",
   "execution_count": 35,
   "id": "c7c2e572-f2f9-4a10-bda5-241e95a04134",
   "metadata": {
    "tags": []
   },
   "outputs": [
    {
     "data": {
      "text/plain": [
       "1347.9561505361698"
      ]
     },
     "execution_count": 35,
     "metadata": {},
     "output_type": "execute_result"
    }
   ],
   "source": [
    "cov_xx = 0\n",
    "for i in range(len(array1)):\n",
    "    for j in range(len(array1)):\n",
    "       cov_xx += array1[i][j]*array1[i][j]-x_bar*x_bar\n",
    "cov_xx = cov_xx / 121\n",
    "cov_xx"
   ]
  },
  {
   "cell_type": "code",
   "execution_count": 36,
   "id": "d8e2d47d-e771-431f-9c57-c1c11876ea8e",
   "metadata": {
    "tags": []
   },
   "outputs": [
    {
     "data": {
      "text/plain": [
       "1612.4132231404983"
      ]
     },
     "execution_count": 36,
     "metadata": {},
     "output_type": "execute_result"
    }
   ],
   "source": [
    "cov_yy = 0\n",
    "for i in range(len(array2)):\n",
    "    for j in range(len(array2)):\n",
    "       cov_yy += array2[i][j]*array2[i][j]-y_bar*y_bar\n",
    "cov_yy = cov_yy / 121\n",
    "cov_yy"
   ]
  },
  {
   "cell_type": "code",
   "execution_count": 37,
   "id": "d5ca0a60-2424-4abc-b5cc-f4631ed73f9c",
   "metadata": {
    "tags": []
   },
   "outputs": [
    {
     "data": {
      "text/plain": [
       "1370.8775356874594"
      ]
     },
     "execution_count": 37,
     "metadata": {},
     "output_type": "execute_result"
    }
   ],
   "source": [
    "cov_xy = 0\n",
    "for i in range(len(array1)):\n",
    "    for j in range(len(array1)):\n",
    "       cov_xy += array1[i][j]*array2[i][j]-x_bar*y_bar\n",
    "cov_xy = cov_xy / 121\n",
    "cov_xy"
   ]
  },
  {
   "cell_type": "code",
   "execution_count": 41,
   "id": "cba52054-b496-4b60-8681-8e9518915833",
   "metadata": {
    "tags": []
   },
   "outputs": [
    {
     "data": {
      "text/plain": [
       "0.9298707824159153"
      ]
     },
     "execution_count": 41,
     "metadata": {},
     "output_type": "execute_result"
    }
   ],
   "source": [
    "ncc = cov_xy/math.sqrt(cov_xx * cov_yy)\n",
    "ncc"
   ]
  },
  {
   "cell_type": "code",
   "execution_count": null,
   "id": "0c8a4ce1-f1f0-4430-95bf-136b4bc5a629",
   "metadata": {},
   "outputs": [],
   "source": []
  }
 ],
 "metadata": {
  "kernelspec": {
   "display_name": "test_env",
   "language": "python",
   "name": "test_env"
  },
  "language_info": {
   "codemirror_mode": {
    "name": "ipython",
    "version": 3
   },
   "file_extension": ".py",
   "mimetype": "text/x-python",
   "name": "python",
   "nbconvert_exporter": "python",
   "pygments_lexer": "ipython3",
   "version": "3.9.7"
  }
 },
 "nbformat": 4,
 "nbformat_minor": 5
}
